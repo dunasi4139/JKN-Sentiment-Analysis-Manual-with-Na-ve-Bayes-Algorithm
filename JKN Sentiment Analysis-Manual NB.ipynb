{
  "nbformat": 4,
  "nbformat_minor": 0,
  "metadata": {
    "colab": {
      "provenance": []
    },
    "kernelspec": {
      "display_name": "Python 3",
      "name": "python3"
    },
    "language_info": {
      "name": "python"
    }
  },
  "cells": [
    {
      "cell_type": "markdown",
      "metadata": {
        "id": "gj5uiZP4hTUh"
      },
      "source": [
        "# **Projek Akhir Sentimen Analisis pada Komentar Mengenai Mobile JKN dengan Menggunakan Algoritme Naïve Bayes**"
      ]
    },
    {
      "cell_type": "markdown",
      "metadata": {
        "id": "fpxum4HzckIM"
      },
      "source": [
        "##Importing Library"
      ]
    },
    {
      "cell_type": "code",
      "metadata": {
        "colab": {
          "base_uri": "https://localhost:8080/"
        },
        "id": "C-8Gd5RG2KFs",
        "outputId": "578b7c97-75e4-435b-c12f-19b25c0ed0b4"
      },
      "source": [
        "from google.colab import files\n",
        "import pandas as pd\n",
        "import numpy as np\n",
        "from collections import Counter\n",
        "import re\n",
        "import string\n",
        "import nltk\n",
        "from nltk.corpus import stopwords\n",
        "nltk.download('stopwords')\n",
        "!pip install Sastrawi\n",
        "from Sastrawi.Stemmer.StemmerFactory import StemmerFactory"
      ],
      "execution_count": null,
      "outputs": [
        {
          "output_type": "stream",
          "name": "stdout",
          "text": [
            "[nltk_data] Downloading package stopwords to /root/nltk_data...\n",
            "[nltk_data]   Unzipping corpora/stopwords.zip.\n",
            "Collecting Sastrawi\n",
            "  Downloading Sastrawi-1.0.1-py2.py3-none-any.whl (209 kB)\n",
            "\u001b[K     |████████████████████████████████| 209 kB 14.2 MB/s \n",
            "\u001b[?25hInstalling collected packages: Sastrawi\n",
            "Successfully installed Sastrawi-1.0.1\n"
          ]
        }
      ]
    },
    {
      "cell_type": "markdown",
      "metadata": {
        "id": "E6WRoGNH2DJi"
      },
      "source": [
        "##Importing the Dataset"
      ]
    },
    {
      "cell_type": "code",
      "metadata": {
        "colab": {
          "resources": {
            "http://localhost:8080/nbextensions/google.colab/files.js": {
              "data": "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",
              "ok": true,
              "headers": [
                [
                  "content-type",
                  "application/javascript"
                ]
              ],
              "status": 200,
              "status_text": ""
            }
          },
          "base_uri": "https://localhost:8080/",
          "height": 90
        },
        "id": "yvNOSvSff8wn",
        "outputId": "51e7c71f-afea-4df2-d75a-426eda9778da"
      },
      "source": [
        "kontak = files.upload()\n",
        "for fn in kontak.keys():\n",
        "  print('Nama file \"{name}\" dengan panjang {length} bytes'.format(\n",
        "      name=fn, length=len(kontak[fn])))"
      ],
      "execution_count": null,
      "outputs": [
        {
          "output_type": "display_data",
          "data": {
            "text/html": [
              "\n",
              "     <input type=\"file\" id=\"files-50710f1d-7837-42aa-8d70-9a62144d4c7d\" name=\"files[]\" multiple disabled\n",
              "        style=\"border:none\" />\n",
              "     <output id=\"result-50710f1d-7837-42aa-8d70-9a62144d4c7d\">\n",
              "      Upload widget is only available when the cell has been executed in the\n",
              "      current browser session. Please rerun this cell to enable.\n",
              "      </output>\n",
              "      <script src=\"/nbextensions/google.colab/files.js\"></script> "
            ],
            "text/plain": [
              "<IPython.core.display.HTML object>"
            ]
          },
          "metadata": {}
        },
        {
          "output_type": "stream",
          "name": "stdout",
          "text": [
            "Saving dataset.csv to dataset.csv\n",
            "Nama file \"dataset.csv\" dengan panjang 5888 bytes\n"
          ]
        }
      ]
    },
    {
      "cell_type": "code",
      "metadata": {
        "colab": {
          "base_uri": "https://localhost:8080/",
          "height": 363
        },
        "id": "CzWQMQZvgn7R",
        "outputId": "94907e6d-901c-4d48-bf7f-63c0e4dabaab"
      },
      "source": [
        "data = pd.read_csv('dataset.csv')\n",
        "\n",
        "data.head(10)"
      ],
      "execution_count": null,
      "outputs": [
        {
          "output_type": "execute_result",
          "data": {
            "text/html": [
              "<div>\n",
              "<style scoped>\n",
              "    .dataframe tbody tr th:only-of-type {\n",
              "        vertical-align: middle;\n",
              "    }\n",
              "\n",
              "    .dataframe tbody tr th {\n",
              "        vertical-align: top;\n",
              "    }\n",
              "\n",
              "    .dataframe thead th {\n",
              "        text-align: right;\n",
              "    }\n",
              "</style>\n",
              "<table border=\"1\" class=\"dataframe\">\n",
              "  <thead>\n",
              "    <tr style=\"text-align: right;\">\n",
              "      <th></th>\n",
              "      <th>tweet</th>\n",
              "      <th>label</th>\n",
              "    </tr>\n",
              "  </thead>\n",
              "  <tbody>\n",
              "    <tr>\n",
              "      <th>0</th>\n",
              "      <td>Sangat baik aplikasi ini dapat cetak kartu JKN...</td>\n",
              "      <td>1</td>\n",
              "    </tr>\n",
              "    <tr>\n",
              "      <th>1</th>\n",
              "      <td>Mempermudah Masyarakat hanya sekali klik tanpa...</td>\n",
              "      <td>1</td>\n",
              "    </tr>\n",
              "    <tr>\n",
              "      <th>2</th>\n",
              "      <td>Makasih...sangat membantu banget aplikasi nya,</td>\n",
              "      <td>1</td>\n",
              "    </tr>\n",
              "    <tr>\n",
              "      <th>3</th>\n",
              "      <td>Cukup membantu pelayanan di klinik atau rumah ...</td>\n",
              "      <td>1</td>\n",
              "    </tr>\n",
              "    <tr>\n",
              "      <th>4</th>\n",
              "      <td>Mobile JKN sangat membangun sekali untuk mempe...</td>\n",
              "      <td>1</td>\n",
              "    </tr>\n",
              "    <tr>\n",
              "      <th>5</th>\n",
              "      <td>aplikasinya sangsat membantu untuk mengecek ak...</td>\n",
              "      <td>1</td>\n",
              "    </tr>\n",
              "    <tr>\n",
              "      <th>6</th>\n",
              "      <td>Bagus aplikasinya buat mengetahui tentang bpjs...</td>\n",
              "      <td>1</td>\n",
              "    </tr>\n",
              "    <tr>\n",
              "      <th>7</th>\n",
              "      <td>Dengan apkikasi baru yg ada fitur2 tambahan ko...</td>\n",
              "      <td>1</td>\n",
              "    </tr>\n",
              "    <tr>\n",
              "      <th>8</th>\n",
              "      <td>mempermudah untuk cek pelayanan FKTP , terima ...</td>\n",
              "      <td>1</td>\n",
              "    </tr>\n",
              "    <tr>\n",
              "      <th>9</th>\n",
              "      <td>Sengat membantu sekali dengan ada nya aplikasi...</td>\n",
              "      <td>1</td>\n",
              "    </tr>\n",
              "  </tbody>\n",
              "</table>\n",
              "</div>"
            ],
            "text/plain": [
              "                                               tweet  label\n",
              "0  Sangat baik aplikasi ini dapat cetak kartu JKN...      1\n",
              "1  Mempermudah Masyarakat hanya sekali klik tanpa...      1\n",
              "2     Makasih...sangat membantu banget aplikasi nya,      1\n",
              "3  Cukup membantu pelayanan di klinik atau rumah ...      1\n",
              "4  Mobile JKN sangat membangun sekali untuk mempe...      1\n",
              "5  aplikasinya sangsat membantu untuk mengecek ak...      1\n",
              "6  Bagus aplikasinya buat mengetahui tentang bpjs...      1\n",
              "7  Dengan apkikasi baru yg ada fitur2 tambahan ko...      1\n",
              "8  mempermudah untuk cek pelayanan FKTP , terima ...      1\n",
              "9  Sengat membantu sekali dengan ada nya aplikasi...      1"
            ]
          },
          "metadata": {},
          "execution_count": 3
        }
      ]
    },
    {
      "cell_type": "markdown",
      "metadata": {
        "id": "HeUw5m9OhN0D"
      },
      "source": [
        "##Preprocessing"
      ]
    },
    {
      "cell_type": "code",
      "metadata": {
        "id": "qBbpBkmBesZl"
      },
      "source": [
        "def preprocessing(dokumen):\n",
        "  dokumen = dokumen.lower()\n",
        "  dokumen = re.sub(\"-\",\" \", dokumen)\n",
        "  dokumen = [word.strip(string.punctuation) for word in dokumen.split(\" \")]\n",
        "  dokumen = [word for word in dokumen if not any(c.isdigit() for c in word)]\n",
        "  stopword = stopwords.words('indonesian')\n",
        "  dokumen = [x for x in dokumen if x not in stopword]\n",
        "  factory = StemmerFactory()\n",
        "  stemmer = factory.create_stemmer()\n",
        "  dokumen = [stemmer.stem(word) for word in dokumen]\n",
        "  dokumen = [t for t in dokumen if len(t) > 1]\n",
        "  dokumen = \" \".join(dokumen)\n",
        "  return(dokumen)"
      ],
      "execution_count": null,
      "outputs": []
    },
    {
      "cell_type": "code",
      "metadata": {
        "colab": {
          "base_uri": "https://localhost:8080/",
          "height": 363
        },
        "id": "G1QOh8pIe2S_",
        "outputId": "71bc8164-1223-428a-972d-0236d0ce6c8d"
      },
      "source": [
        "#Preprocessing Dataset\n",
        "data['tweet'] = data['tweet'].apply(lambda x: preprocessing(x))\n",
        "data.head(10)"
      ],
      "execution_count": null,
      "outputs": [
        {
          "output_type": "execute_result",
          "data": {
            "text/html": [
              "<div>\n",
              "<style scoped>\n",
              "    .dataframe tbody tr th:only-of-type {\n",
              "        vertical-align: middle;\n",
              "    }\n",
              "\n",
              "    .dataframe tbody tr th {\n",
              "        vertical-align: top;\n",
              "    }\n",
              "\n",
              "    .dataframe thead th {\n",
              "        text-align: right;\n",
              "    }\n",
              "</style>\n",
              "<table border=\"1\" class=\"dataframe\">\n",
              "  <thead>\n",
              "    <tr style=\"text-align: right;\">\n",
              "      <th></th>\n",
              "      <th>tweet</th>\n",
              "      <th>label</th>\n",
              "    </tr>\n",
              "  </thead>\n",
              "  <tbody>\n",
              "    <tr>\n",
              "      <th>0</th>\n",
              "      <td>aplikasi cetak kartu jkn cepat</td>\n",
              "      <td>1</td>\n",
              "    </tr>\n",
              "    <tr>\n",
              "      <th>1</th>\n",
              "      <td>mudah masyarakat klik antri</td>\n",
              "      <td>1</td>\n",
              "    </tr>\n",
              "    <tr>\n",
              "      <th>2</th>\n",
              "      <td>makasih sangat bantu banget aplikasi nya</td>\n",
              "      <td>1</td>\n",
              "    </tr>\n",
              "    <tr>\n",
              "      <th>3</th>\n",
              "      <td>bantu layan klinik rumah sakit</td>\n",
              "      <td>1</td>\n",
              "    </tr>\n",
              "    <tr>\n",
              "      <th>4</th>\n",
              "      <td>mobile jkn bangun mudah sistem</td>\n",
              "      <td>1</td>\n",
              "    </tr>\n",
              "    <tr>\n",
              "      <th>5</th>\n",
              "      <td>aplikasi sangsat bantu ecek aktip nya pbjs sehat</td>\n",
              "      <td>1</td>\n",
              "    </tr>\n",
              "    <tr>\n",
              "      <th>6</th>\n",
              "      <td>bagus aplikasi bpjs bayar bulan dll</td>\n",
              "      <td>1</td>\n",
              "    </tr>\n",
              "    <tr>\n",
              "      <th>7</th>\n",
              "      <td>apkikasi yg tambah komsultasi dokter jadwal op...</td>\n",
              "      <td>1</td>\n",
              "    </tr>\n",
              "    <tr>\n",
              "      <th>8</th>\n",
              "      <td>mudah cek layan fktp terima kasih bpjs</td>\n",
              "      <td>1</td>\n",
              "    </tr>\n",
              "    <tr>\n",
              "      <th>9</th>\n",
              "      <td>sengat bantu nya aplikasi inih jd tau info tnt...</td>\n",
              "      <td>1</td>\n",
              "    </tr>\n",
              "  </tbody>\n",
              "</table>\n",
              "</div>"
            ],
            "text/plain": [
              "                                               tweet  label\n",
              "0                     aplikasi cetak kartu jkn cepat      1\n",
              "1                        mudah masyarakat klik antri      1\n",
              "2           makasih sangat bantu banget aplikasi nya      1\n",
              "3                     bantu layan klinik rumah sakit      1\n",
              "4                     mobile jkn bangun mudah sistem      1\n",
              "5   aplikasi sangsat bantu ecek aktip nya pbjs sehat      1\n",
              "6                bagus aplikasi bpjs bayar bulan dll      1\n",
              "7  apkikasi yg tambah komsultasi dokter jadwal op...      1\n",
              "8             mudah cek layan fktp terima kasih bpjs      1\n",
              "9  sengat bantu nya aplikasi inih jd tau info tnt...      1"
            ]
          },
          "metadata": {},
          "execution_count": 5
        }
      ]
    },
    {
      "cell_type": "markdown",
      "metadata": {
        "id": "4xelwoJdSG5Z"
      },
      "source": [
        "#Fase Training"
      ]
    },
    {
      "cell_type": "markdown",
      "metadata": {
        "id": "jwFMLmxw5sMt"
      },
      "source": [
        "## Memisahkan Data per Kelas"
      ]
    },
    {
      "cell_type": "code",
      "metadata": {
        "colab": {
          "base_uri": "https://localhost:8080/"
        },
        "id": "3qMqkUav5yQI",
        "outputId": "170e8a80-5ba3-4b4a-9c6a-b7fdfae1d910"
      },
      "source": [
        "# Data Kelas 1\n",
        "data_positif = [row['tweet'] for index, row in data.iterrows() if row['label'] == 1]\n",
        "data_positif"
      ],
      "execution_count": null,
      "outputs": [
        {
          "output_type": "execute_result",
          "data": {
            "text/plain": [
              "['aplikasi cetak kartu jkn cepat',\n",
              " 'mudah masyarakat klik antri',\n",
              " 'makasih sangat bantu banget aplikasi nya',\n",
              " 'bantu layan klinik rumah sakit',\n",
              " 'mobile jkn bangun mudah sistem',\n",
              " 'aplikasi sangsat bantu ecek aktip nya pbjs sehat',\n",
              " 'bagus aplikasi bpjs bayar bulan dll',\n",
              " 'apkikasi yg tambah komsultasi dokter jadwal operasi bagus',\n",
              " 'mudah cek layan fktp terima kasih bpjs',\n",
              " 'sengat bantu nya aplikasi inih jd tau info tntng bpjs',\n",
              " 'mudah cari informasi jkn',\n",
              " 'terima kasih mobile jkn layan nya',\n",
              " 'oke si bantu tp updat trus udah',\n",
              " 'bantu fasilitas sehat',\n",
              " 'aplikasi bantu tingkat']"
            ]
          },
          "metadata": {},
          "execution_count": 6
        }
      ]
    },
    {
      "cell_type": "code",
      "metadata": {
        "colab": {
          "base_uri": "https://localhost:8080/"
        },
        "id": "sxCw5reu6Nt9",
        "outputId": "34d16388-e6f5-4455-c27e-1e3f37089384"
      },
      "source": [
        "data_negatif = [row['tweet'] for index, row in data.iterrows() if row['label'] == 0]\n",
        "data_negatif"
      ],
      "execution_count": null,
      "outputs": [
        {
          "output_type": "execute_result",
          "data": {
            "text/plain": [
              "['jkn anjiiing kali hubung call centernya daftar serta gak pulsa si tarik habis hasil nihil mudah sulit orang daftar bpjs nelfon pulsa tarik barapa kali hubung k ulas lengkapjkn anjiiing kali hubung call centernya daftar serta gak pulsa si tarik habis hasil nihil mudah sulit orang daftar bpjs nelfon pulsa tarik barapa kali hubung call center daftar aplikasi gak mo daftar anggota aja gak tolong tingkat layan susah rakyat mulu',\n",
              " 'tolong jelas kmren daftar dibpjs online login jawab transakai proses silah coba sdh coba jawab bgitu klo mmg tdak kasih pasti jgn ulas lengkaptolong jelas kmren daftar dibpjs online login jawab transakai proses silah coba sdh coba jawab bgitu klo mmg tdak kasih pasti jgn bantu layan butuh tolong perintah henti berhoax mudah rakyat rakyat tetangga',\n",
              " 'transaksi proses ulang tdk buka tolong baik apps nya yg complaint tp buruk jg nih apps',\n",
              " 'aplikasi sulit akses kalo jam jam sibuk tampil transaksi proses silah coba obat kalo jam malam aplikasi lancar',\n",
              " 'daaftar aja susah udah download blg drmh aja aplikasi nya gak bener tolong nambah susahin daftar aja susah benrr gak',\n",
              " 'knp ya bs bayar bpjs sehat virtual account yg pake bs bayar tera tulisa id no tlpn npwp maret bs byr',\n",
              " 'layan buruk tiap buka aplikasi jkn suruh baharu play store saya bayar premi cek jkn tagih dan kartu non aktif premi',\n",
              " 'daftar ajha ribet bgt kantor nya suruh aplikasi aplikasi gk komplain kantor nik blm online kn suruh capil huft rempong sih layan nya meribetkan gin',\n",
              " 'diupdate gabisa masuk minggu uninstall coba install ulang masuk oke coba buka fitur tambah moga bagus',\n",
              " 'masuk capta captanya tampil alias kosong gimna masuk dear kembang saran capta mudah akses masuk mohon baik',\n",
              " 'udah akun pas log in nomor daftar akun terang daftar silah log in pas log in nomor daftar sumpah kesel kali bulak bikin akun pas log in nomor daftar',\n",
              " 'apk sampah jam kerja gak akses nunggu malem layan jam kerja telfon bayar bicara solusi',\n",
              " 'udah log in tp klik gambar yg maksud tulis nya slalu transaksi proses silah coba btw niat ga sih bkin aplikasi bkin malu aja',\n",
              " 'buka aplikasi aja gk login gagal tolong donk it development nya urus yg bener aplikasi sanggup maintenance aplikasi jgn benerin buka aplikasi login gagal mulu iya hari login',\n",
              " 'tolong baik aplikasi nya layan yg baik kesiap aplikasi penting register login muncul notif daftar login sukses call center hubung arah ulas lengkaptolong baik aplikasi nya layan yg baik kesiap aplikasi penting register login muncul notif daftar login sukses call center hubung arah aplikasi lembaga perintah lbh better kasih layan kalah ma layan usaha swasta']"
            ]
          },
          "metadata": {},
          "execution_count": 7
        }
      ]
    },
    {
      "cell_type": "markdown",
      "metadata": {
        "id": "2Gk6aWC9KoT9"
      },
      "source": [
        "## Split Data Latih dan Data Uji"
      ]
    },
    {
      "cell_type": "code",
      "metadata": {
        "id": "Nm780pVfYgum"
      },
      "source": [
        "def data_split(pertama, kedua, ketiga):\n",
        "  data_uji=[]\n",
        "  data_latih_p=[]\n",
        "  data_latih_n=[]\n",
        "  for i in range(0,15):\n",
        "    if(i==pertama or i==kedua or i==ketiga):\n",
        "      data_uji.append(data_positif[i])\n",
        "      data_uji.append(data_negatif[i])\n",
        "    else :\n",
        "      data_latih_p.append(data_positif[i])\n",
        "      data_latih_n.append(data_negatif[i])\n",
        "\n",
        "  data = np.concatenate((data_uji, data_latih_p, data_latih_n))\n",
        "  return data_uji, data_latih_p, data_latih_n"
      ],
      "execution_count": null,
      "outputs": []
    },
    {
      "cell_type": "code",
      "metadata": {
        "id": "XLLwiTQub7q2"
      },
      "source": [
        "data_split = data_split(0,1,2)"
      ],
      "execution_count": null,
      "outputs": []
    },
    {
      "cell_type": "code",
      "metadata": {
        "colab": {
          "base_uri": "https://localhost:8080/"
        },
        "id": "Ia973db8gCID",
        "outputId": "37bfd9df-33cf-4c48-ba22-67a2292ff2b1"
      },
      "source": [
        "#Data Uji\n",
        "data_uji = data_split[0]\n",
        "print(data_uji)"
      ],
      "execution_count": null,
      "outputs": [
        {
          "output_type": "stream",
          "name": "stdout",
          "text": [
            "['aplikasi cetak kartu jkn cepat', 'jkn anjiiing kali hubung call centernya daftar serta gak pulsa si tarik habis hasil nihil mudah sulit orang daftar bpjs nelfon pulsa tarik barapa kali hubung k ulas lengkapjkn anjiiing kali hubung call centernya daftar serta gak pulsa si tarik habis hasil nihil mudah sulit orang daftar bpjs nelfon pulsa tarik barapa kali hubung call center daftar aplikasi gak mo daftar anggota aja gak tolong tingkat layan susah rakyat mulu', 'mudah masyarakat klik antri', 'tolong jelas kmren daftar dibpjs online login jawab transakai proses silah coba sdh coba jawab bgitu klo mmg tdak kasih pasti jgn ulas lengkaptolong jelas kmren daftar dibpjs online login jawab transakai proses silah coba sdh coba jawab bgitu klo mmg tdak kasih pasti jgn bantu layan butuh tolong perintah henti berhoax mudah rakyat rakyat tetangga', 'makasih sangat bantu banget aplikasi nya', 'transaksi proses ulang tdk buka tolong baik apps nya yg complaint tp buruk jg nih apps']\n"
          ]
        }
      ]
    },
    {
      "cell_type": "code",
      "metadata": {
        "colab": {
          "base_uri": "https://localhost:8080/"
        },
        "id": "LFxabEaugzaO",
        "outputId": "5b7f0123-f337-4270-ccfb-004008f79d4f"
      },
      "source": [
        "#Data Latih\n",
        "data_latih_p = data_split[1]\n",
        "data_latih_n = data_split[2]\n",
        "\n",
        "data_latih = np.concatenate((data_latih_p, data_latih_n))\n",
        "print(data_latih)"
      ],
      "execution_count": null,
      "outputs": [
        {
          "output_type": "stream",
          "name": "stdout",
          "text": [
            "['bantu layan klinik rumah sakit' 'mobile jkn bangun mudah sistem'\n",
            " 'aplikasi sangsat bantu ecek aktip nya pbjs sehat'\n",
            " 'bagus aplikasi bpjs bayar bulan dll'\n",
            " 'apkikasi yg tambah komsultasi dokter jadwal operasi bagus'\n",
            " 'mudah cek layan fktp terima kasih bpjs'\n",
            " 'sengat bantu nya aplikasi inih jd tau info tntng bpjs'\n",
            " 'mudah cari informasi jkn' 'terima kasih mobile jkn layan nya'\n",
            " 'oke si bantu tp updat trus udah' 'bantu fasilitas sehat'\n",
            " 'aplikasi bantu tingkat'\n",
            " 'aplikasi sulit akses kalo jam jam sibuk tampil transaksi proses silah coba obat kalo jam malam aplikasi lancar'\n",
            " 'daaftar aja susah udah download blg drmh aja aplikasi nya gak bener tolong nambah susahin daftar aja susah benrr gak'\n",
            " 'knp ya bs bayar bpjs sehat virtual account yg pake bs bayar tera tulisa id no tlpn npwp maret bs byr'\n",
            " 'layan buruk tiap buka aplikasi jkn suruh baharu play store saya bayar premi cek jkn tagih dan kartu non aktif premi'\n",
            " 'daftar ajha ribet bgt kantor nya suruh aplikasi aplikasi gk komplain kantor nik blm online kn suruh capil huft rempong sih layan nya meribetkan gin'\n",
            " 'diupdate gabisa masuk minggu uninstall coba install ulang masuk oke coba buka fitur tambah moga bagus'\n",
            " 'masuk capta captanya tampil alias kosong gimna masuk dear kembang saran capta mudah akses masuk mohon baik'\n",
            " 'udah akun pas log in nomor daftar akun terang daftar silah log in pas log in nomor daftar sumpah kesel kali bulak bikin akun pas log in nomor daftar'\n",
            " 'apk sampah jam kerja gak akses nunggu malem layan jam kerja telfon bayar bicara solusi'\n",
            " 'udah log in tp klik gambar yg maksud tulis nya slalu transaksi proses silah coba btw niat ga sih bkin aplikasi bkin malu aja'\n",
            " 'buka aplikasi aja gk login gagal tolong donk it development nya urus yg bener aplikasi sanggup maintenance aplikasi jgn benerin buka aplikasi login gagal mulu iya hari login'\n",
            " 'tolong baik aplikasi nya layan yg baik kesiap aplikasi penting register login muncul notif daftar login sukses call center hubung arah ulas lengkaptolong baik aplikasi nya layan yg baik kesiap aplikasi penting register login muncul notif daftar login sukses call center hubung arah aplikasi lembaga perintah lbh better kasih layan kalah ma layan usaha swasta']\n"
          ]
        }
      ]
    },
    {
      "cell_type": "markdown",
      "metadata": {
        "id": "O6k0WZBO4AUE"
      },
      "source": [
        "## Term Frequency"
      ]
    },
    {
      "cell_type": "code",
      "metadata": {
        "colab": {
          "base_uri": "https://localhost:8080/"
        },
        "id": "FOGGovmXzT-E",
        "outputId": "113894d0-3c6e-4dc6-f0c2-1f3894f4c53c"
      },
      "source": [
        "#Term Frequency Keseluruhan\n",
        "term = ' '.join([i for i in data_latih]).split()\n",
        "tf = dict(Counter((\" \".join(term).split(\" \"))))\n",
        "tf"
      ],
      "execution_count": null,
      "outputs": [
        {
          "output_type": "execute_result",
          "data": {
            "text/plain": [
              "{'account': 1,\n",
              " 'aja': 5,\n",
              " 'ajha': 1,\n",
              " 'akses': 3,\n",
              " 'aktif': 1,\n",
              " 'aktip': 1,\n",
              " 'akun': 3,\n",
              " 'alias': 1,\n",
              " 'apk': 1,\n",
              " 'apkikasi': 1,\n",
              " 'aplikasi': 20,\n",
              " 'arah': 2,\n",
              " 'bagus': 3,\n",
              " 'baharu': 1,\n",
              " 'baik': 5,\n",
              " 'bangun': 1,\n",
              " 'bantu': 6,\n",
              " 'bayar': 5,\n",
              " 'bener': 2,\n",
              " 'benerin': 1,\n",
              " 'benrr': 1,\n",
              " 'better': 1,\n",
              " 'bgt': 1,\n",
              " 'bicara': 1,\n",
              " 'bikin': 1,\n",
              " 'bkin': 2,\n",
              " 'blg': 1,\n",
              " 'blm': 1,\n",
              " 'bpjs': 4,\n",
              " 'bs': 3,\n",
              " 'btw': 1,\n",
              " 'buka': 4,\n",
              " 'bulak': 1,\n",
              " 'bulan': 1,\n",
              " 'buruk': 1,\n",
              " 'byr': 1,\n",
              " 'call': 2,\n",
              " 'capil': 1,\n",
              " 'capta': 2,\n",
              " 'captanya': 1,\n",
              " 'cari': 1,\n",
              " 'cek': 2,\n",
              " 'center': 2,\n",
              " 'coba': 4,\n",
              " 'daaftar': 1,\n",
              " 'daftar': 8,\n",
              " 'dan': 1,\n",
              " 'dear': 1,\n",
              " 'development': 1,\n",
              " 'diupdate': 1,\n",
              " 'dll': 1,\n",
              " 'dokter': 1,\n",
              " 'donk': 1,\n",
              " 'download': 1,\n",
              " 'drmh': 1,\n",
              " 'ecek': 1,\n",
              " 'fasilitas': 1,\n",
              " 'fitur': 1,\n",
              " 'fktp': 1,\n",
              " 'ga': 1,\n",
              " 'gabisa': 1,\n",
              " 'gagal': 2,\n",
              " 'gak': 3,\n",
              " 'gambar': 1,\n",
              " 'gimna': 1,\n",
              " 'gin': 1,\n",
              " 'gk': 2,\n",
              " 'hari': 1,\n",
              " 'hubung': 2,\n",
              " 'huft': 1,\n",
              " 'id': 1,\n",
              " 'in': 5,\n",
              " 'info': 1,\n",
              " 'informasi': 1,\n",
              " 'inih': 1,\n",
              " 'install': 1,\n",
              " 'it': 1,\n",
              " 'iya': 1,\n",
              " 'jadwal': 1,\n",
              " 'jam': 5,\n",
              " 'jd': 1,\n",
              " 'jgn': 1,\n",
              " 'jkn': 5,\n",
              " 'kalah': 1,\n",
              " 'kali': 1,\n",
              " 'kalo': 2,\n",
              " 'kantor': 2,\n",
              " 'kartu': 1,\n",
              " 'kasih': 3,\n",
              " 'kembang': 1,\n",
              " 'kerja': 2,\n",
              " 'kesel': 1,\n",
              " 'kesiap': 2,\n",
              " 'klik': 1,\n",
              " 'klinik': 1,\n",
              " 'kn': 1,\n",
              " 'knp': 1,\n",
              " 'komplain': 1,\n",
              " 'komsultasi': 1,\n",
              " 'kosong': 1,\n",
              " 'lancar': 1,\n",
              " 'layan': 10,\n",
              " 'lbh': 1,\n",
              " 'lembaga': 1,\n",
              " 'lengkaptolong': 1,\n",
              " 'log': 5,\n",
              " 'login': 7,\n",
              " 'ma': 1,\n",
              " 'maintenance': 1,\n",
              " 'maksud': 1,\n",
              " 'malam': 1,\n",
              " 'malem': 1,\n",
              " 'malu': 1,\n",
              " 'maret': 1,\n",
              " 'masuk': 5,\n",
              " 'meribetkan': 1,\n",
              " 'minggu': 1,\n",
              " 'mobile': 2,\n",
              " 'moga': 1,\n",
              " 'mohon': 1,\n",
              " 'mudah': 4,\n",
              " 'mulu': 1,\n",
              " 'muncul': 2,\n",
              " 'nambah': 1,\n",
              " 'niat': 1,\n",
              " 'nik': 1,\n",
              " 'no': 1,\n",
              " 'nomor': 3,\n",
              " 'non': 1,\n",
              " 'notif': 2,\n",
              " 'npwp': 1,\n",
              " 'nunggu': 1,\n",
              " 'nya': 10,\n",
              " 'obat': 1,\n",
              " 'oke': 2,\n",
              " 'online': 1,\n",
              " 'operasi': 1,\n",
              " 'pake': 1,\n",
              " 'pas': 3,\n",
              " 'pbjs': 1,\n",
              " 'penting': 2,\n",
              " 'perintah': 1,\n",
              " 'play': 1,\n",
              " 'premi': 2,\n",
              " 'proses': 2,\n",
              " 'register': 2,\n",
              " 'rempong': 1,\n",
              " 'ribet': 1,\n",
              " 'rumah': 1,\n",
              " 'sakit': 1,\n",
              " 'sampah': 1,\n",
              " 'sanggup': 1,\n",
              " 'sangsat': 1,\n",
              " 'saran': 1,\n",
              " 'saya': 1,\n",
              " 'sehat': 3,\n",
              " 'sengat': 1,\n",
              " 'si': 1,\n",
              " 'sibuk': 1,\n",
              " 'sih': 2,\n",
              " 'silah': 3,\n",
              " 'sistem': 1,\n",
              " 'slalu': 1,\n",
              " 'solusi': 1,\n",
              " 'store': 1,\n",
              " 'sukses': 2,\n",
              " 'sulit': 1,\n",
              " 'sumpah': 1,\n",
              " 'suruh': 3,\n",
              " 'susah': 2,\n",
              " 'susahin': 1,\n",
              " 'swasta': 1,\n",
              " 'tagih': 1,\n",
              " 'tambah': 2,\n",
              " 'tampil': 2,\n",
              " 'tau': 1,\n",
              " 'telfon': 1,\n",
              " 'tera': 1,\n",
              " 'terang': 1,\n",
              " 'terima': 2,\n",
              " 'tiap': 1,\n",
              " 'tingkat': 1,\n",
              " 'tlpn': 1,\n",
              " 'tntng': 1,\n",
              " 'tolong': 3,\n",
              " 'tp': 2,\n",
              " 'transaksi': 2,\n",
              " 'trus': 1,\n",
              " 'tulis': 1,\n",
              " 'tulisa': 1,\n",
              " 'udah': 4,\n",
              " 'ulang': 1,\n",
              " 'ulas': 1,\n",
              " 'uninstall': 1,\n",
              " 'updat': 1,\n",
              " 'urus': 1,\n",
              " 'usaha': 1,\n",
              " 'virtual': 1,\n",
              " 'ya': 1,\n",
              " 'yg': 6}"
            ]
          },
          "metadata": {},
          "execution_count": 12
        }
      ]
    },
    {
      "cell_type": "code",
      "metadata": {
        "colab": {
          "base_uri": "https://localhost:8080/"
        },
        "id": "e2R1nmoO7LYD",
        "outputId": "42b19e8b-3f7e-442c-a359-a97266108bdf"
      },
      "source": [
        "#Term Frequency Kelasi 1\n",
        "tf_positif= dict(Counter((\" \".join(data_latih_p).split(\" \"))))\n",
        "tf_positif"
      ],
      "execution_count": null,
      "outputs": [
        {
          "output_type": "execute_result",
          "data": {
            "text/plain": [
              "{'aktip': 1,\n",
              " 'apkikasi': 1,\n",
              " 'aplikasi': 4,\n",
              " 'bagus': 2,\n",
              " 'bangun': 1,\n",
              " 'bantu': 6,\n",
              " 'bayar': 1,\n",
              " 'bpjs': 3,\n",
              " 'bulan': 1,\n",
              " 'cari': 1,\n",
              " 'cek': 1,\n",
              " 'dll': 1,\n",
              " 'dokter': 1,\n",
              " 'ecek': 1,\n",
              " 'fasilitas': 1,\n",
              " 'fktp': 1,\n",
              " 'info': 1,\n",
              " 'informasi': 1,\n",
              " 'inih': 1,\n",
              " 'jadwal': 1,\n",
              " 'jd': 1,\n",
              " 'jkn': 3,\n",
              " 'kasih': 2,\n",
              " 'klinik': 1,\n",
              " 'komsultasi': 1,\n",
              " 'layan': 3,\n",
              " 'mobile': 2,\n",
              " 'mudah': 3,\n",
              " 'nya': 3,\n",
              " 'oke': 1,\n",
              " 'operasi': 1,\n",
              " 'pbjs': 1,\n",
              " 'rumah': 1,\n",
              " 'sakit': 1,\n",
              " 'sangsat': 1,\n",
              " 'sehat': 2,\n",
              " 'sengat': 1,\n",
              " 'si': 1,\n",
              " 'sistem': 1,\n",
              " 'tambah': 1,\n",
              " 'tau': 1,\n",
              " 'terima': 2,\n",
              " 'tingkat': 1,\n",
              " 'tntng': 1,\n",
              " 'tp': 1,\n",
              " 'trus': 1,\n",
              " 'udah': 1,\n",
              " 'updat': 1,\n",
              " 'yg': 1}"
            ]
          },
          "metadata": {},
          "execution_count": 13
        }
      ]
    },
    {
      "cell_type": "code",
      "metadata": {
        "colab": {
          "base_uri": "https://localhost:8080/"
        },
        "id": "CFzroX8p7yvR",
        "outputId": "6bce1de5-6852-4fc3-b8cd-f38b44479c24"
      },
      "source": [
        "#Term Frequency Kelasi 0\n",
        "tf_negatif = dict(Counter((\" \".join(data_latih_n).split(\" \"))))\n",
        "tf_negatif"
      ],
      "execution_count": null,
      "outputs": [
        {
          "output_type": "execute_result",
          "data": {
            "text/plain": [
              "{'account': 1,\n",
              " 'aja': 5,\n",
              " 'ajha': 1,\n",
              " 'akses': 3,\n",
              " 'aktif': 1,\n",
              " 'akun': 3,\n",
              " 'alias': 1,\n",
              " 'apk': 1,\n",
              " 'aplikasi': 16,\n",
              " 'arah': 2,\n",
              " 'bagus': 1,\n",
              " 'baharu': 1,\n",
              " 'baik': 5,\n",
              " 'bayar': 4,\n",
              " 'bener': 2,\n",
              " 'benerin': 1,\n",
              " 'benrr': 1,\n",
              " 'better': 1,\n",
              " 'bgt': 1,\n",
              " 'bicara': 1,\n",
              " 'bikin': 1,\n",
              " 'bkin': 2,\n",
              " 'blg': 1,\n",
              " 'blm': 1,\n",
              " 'bpjs': 1,\n",
              " 'bs': 3,\n",
              " 'btw': 1,\n",
              " 'buka': 4,\n",
              " 'bulak': 1,\n",
              " 'buruk': 1,\n",
              " 'byr': 1,\n",
              " 'call': 2,\n",
              " 'capil': 1,\n",
              " 'capta': 2,\n",
              " 'captanya': 1,\n",
              " 'cek': 1,\n",
              " 'center': 2,\n",
              " 'coba': 4,\n",
              " 'daaftar': 1,\n",
              " 'daftar': 8,\n",
              " 'dan': 1,\n",
              " 'dear': 1,\n",
              " 'development': 1,\n",
              " 'diupdate': 1,\n",
              " 'donk': 1,\n",
              " 'download': 1,\n",
              " 'drmh': 1,\n",
              " 'fitur': 1,\n",
              " 'ga': 1,\n",
              " 'gabisa': 1,\n",
              " 'gagal': 2,\n",
              " 'gak': 3,\n",
              " 'gambar': 1,\n",
              " 'gimna': 1,\n",
              " 'gin': 1,\n",
              " 'gk': 2,\n",
              " 'hari': 1,\n",
              " 'hubung': 2,\n",
              " 'huft': 1,\n",
              " 'id': 1,\n",
              " 'in': 5,\n",
              " 'install': 1,\n",
              " 'it': 1,\n",
              " 'iya': 1,\n",
              " 'jam': 5,\n",
              " 'jgn': 1,\n",
              " 'jkn': 2,\n",
              " 'kalah': 1,\n",
              " 'kali': 1,\n",
              " 'kalo': 2,\n",
              " 'kantor': 2,\n",
              " 'kartu': 1,\n",
              " 'kasih': 1,\n",
              " 'kembang': 1,\n",
              " 'kerja': 2,\n",
              " 'kesel': 1,\n",
              " 'kesiap': 2,\n",
              " 'klik': 1,\n",
              " 'kn': 1,\n",
              " 'knp': 1,\n",
              " 'komplain': 1,\n",
              " 'kosong': 1,\n",
              " 'lancar': 1,\n",
              " 'layan': 7,\n",
              " 'lbh': 1,\n",
              " 'lembaga': 1,\n",
              " 'lengkaptolong': 1,\n",
              " 'log': 5,\n",
              " 'login': 7,\n",
              " 'ma': 1,\n",
              " 'maintenance': 1,\n",
              " 'maksud': 1,\n",
              " 'malam': 1,\n",
              " 'malem': 1,\n",
              " 'malu': 1,\n",
              " 'maret': 1,\n",
              " 'masuk': 5,\n",
              " 'meribetkan': 1,\n",
              " 'minggu': 1,\n",
              " 'moga': 1,\n",
              " 'mohon': 1,\n",
              " 'mudah': 1,\n",
              " 'mulu': 1,\n",
              " 'muncul': 2,\n",
              " 'nambah': 1,\n",
              " 'niat': 1,\n",
              " 'nik': 1,\n",
              " 'no': 1,\n",
              " 'nomor': 3,\n",
              " 'non': 1,\n",
              " 'notif': 2,\n",
              " 'npwp': 1,\n",
              " 'nunggu': 1,\n",
              " 'nya': 7,\n",
              " 'obat': 1,\n",
              " 'oke': 1,\n",
              " 'online': 1,\n",
              " 'pake': 1,\n",
              " 'pas': 3,\n",
              " 'penting': 2,\n",
              " 'perintah': 1,\n",
              " 'play': 1,\n",
              " 'premi': 2,\n",
              " 'proses': 2,\n",
              " 'register': 2,\n",
              " 'rempong': 1,\n",
              " 'ribet': 1,\n",
              " 'sampah': 1,\n",
              " 'sanggup': 1,\n",
              " 'saran': 1,\n",
              " 'saya': 1,\n",
              " 'sehat': 1,\n",
              " 'sibuk': 1,\n",
              " 'sih': 2,\n",
              " 'silah': 3,\n",
              " 'slalu': 1,\n",
              " 'solusi': 1,\n",
              " 'store': 1,\n",
              " 'sukses': 2,\n",
              " 'sulit': 1,\n",
              " 'sumpah': 1,\n",
              " 'suruh': 3,\n",
              " 'susah': 2,\n",
              " 'susahin': 1,\n",
              " 'swasta': 1,\n",
              " 'tagih': 1,\n",
              " 'tambah': 1,\n",
              " 'tampil': 2,\n",
              " 'telfon': 1,\n",
              " 'tera': 1,\n",
              " 'terang': 1,\n",
              " 'tiap': 1,\n",
              " 'tlpn': 1,\n",
              " 'tolong': 3,\n",
              " 'tp': 1,\n",
              " 'transaksi': 2,\n",
              " 'tulis': 1,\n",
              " 'tulisa': 1,\n",
              " 'udah': 3,\n",
              " 'ulang': 1,\n",
              " 'ulas': 1,\n",
              " 'uninstall': 1,\n",
              " 'urus': 1,\n",
              " 'usaha': 1,\n",
              " 'virtual': 1,\n",
              " 'ya': 1,\n",
              " 'yg': 5}"
            ]
          },
          "metadata": {},
          "execution_count": 14
        }
      ]
    },
    {
      "cell_type": "markdown",
      "metadata": {
        "id": "jnB9GBgYFY8G"
      },
      "source": [
        "## List Fitur"
      ]
    },
    {
      "cell_type": "code",
      "metadata": {
        "colab": {
          "base_uri": "https://localhost:8080/"
        },
        "id": "Q_7FVzOqEar0",
        "outputId": "941d84a6-02f4-4325-96fe-f77226814995"
      },
      "source": [
        "# Semua Fitur\n",
        "fitur = tf.keys()\n",
        "fitur"
      ],
      "execution_count": null,
      "outputs": [
        {
          "output_type": "execute_result",
          "data": {
            "text/plain": [
              "dict_keys(['bantu', 'layan', 'klinik', 'rumah', 'sakit', 'mobile', 'jkn', 'bangun', 'mudah', 'sistem', 'aplikasi', 'sangsat', 'ecek', 'aktip', 'nya', 'pbjs', 'sehat', 'bagus', 'bpjs', 'bayar', 'bulan', 'dll', 'apkikasi', 'yg', 'tambah', 'komsultasi', 'dokter', 'jadwal', 'operasi', 'cek', 'fktp', 'terima', 'kasih', 'sengat', 'inih', 'jd', 'tau', 'info', 'tntng', 'cari', 'informasi', 'oke', 'si', 'tp', 'updat', 'trus', 'udah', 'fasilitas', 'tingkat', 'sulit', 'akses', 'kalo', 'jam', 'sibuk', 'tampil', 'transaksi', 'proses', 'silah', 'coba', 'obat', 'malam', 'lancar', 'daaftar', 'aja', 'susah', 'download', 'blg', 'drmh', 'gak', 'bener', 'tolong', 'nambah', 'susahin', 'daftar', 'benrr', 'knp', 'ya', 'bs', 'virtual', 'account', 'pake', 'tera', 'tulisa', 'id', 'no', 'tlpn', 'npwp', 'maret', 'byr', 'buruk', 'tiap', 'buka', 'suruh', 'baharu', 'play', 'store', 'saya', 'premi', 'tagih', 'dan', 'kartu', 'non', 'aktif', 'ajha', 'ribet', 'bgt', 'kantor', 'gk', 'komplain', 'nik', 'blm', 'online', 'kn', 'capil', 'huft', 'rempong', 'sih', 'meribetkan', 'gin', 'diupdate', 'gabisa', 'masuk', 'minggu', 'uninstall', 'install', 'ulang', 'fitur', 'moga', 'capta', 'captanya', 'alias', 'kosong', 'gimna', 'dear', 'kembang', 'saran', 'mohon', 'baik', 'akun', 'pas', 'log', 'in', 'nomor', 'terang', 'sumpah', 'kesel', 'kali', 'bulak', 'bikin', 'apk', 'sampah', 'kerja', 'nunggu', 'malem', 'telfon', 'bicara', 'solusi', 'klik', 'gambar', 'maksud', 'tulis', 'slalu', 'btw', 'niat', 'ga', 'bkin', 'malu', 'login', 'gagal', 'donk', 'it', 'development', 'urus', 'sanggup', 'maintenance', 'jgn', 'benerin', 'mulu', 'iya', 'hari', 'kesiap', 'penting', 'register', 'muncul', 'notif', 'sukses', 'call', 'center', 'hubung', 'arah', 'ulas', 'lengkaptolong', 'lembaga', 'perintah', 'lbh', 'better', 'kalah', 'ma', 'usaha', 'swasta'])"
            ]
          },
          "metadata": {},
          "execution_count": 15
        }
      ]
    },
    {
      "cell_type": "code",
      "metadata": {
        "colab": {
          "base_uri": "https://localhost:8080/"
        },
        "id": "wnzjgJjgFuUg",
        "outputId": "19560fbd-9b29-4cff-bb49-e26615098e77"
      },
      "source": [
        "# Semua Fitur Kelas 1\n",
        "fitur_positif = tf_positif.keys()\n",
        "fitur_positif"
      ],
      "execution_count": null,
      "outputs": [
        {
          "output_type": "execute_result",
          "data": {
            "text/plain": [
              "dict_keys(['bantu', 'layan', 'klinik', 'rumah', 'sakit', 'mobile', 'jkn', 'bangun', 'mudah', 'sistem', 'aplikasi', 'sangsat', 'ecek', 'aktip', 'nya', 'pbjs', 'sehat', 'bagus', 'bpjs', 'bayar', 'bulan', 'dll', 'apkikasi', 'yg', 'tambah', 'komsultasi', 'dokter', 'jadwal', 'operasi', 'cek', 'fktp', 'terima', 'kasih', 'sengat', 'inih', 'jd', 'tau', 'info', 'tntng', 'cari', 'informasi', 'oke', 'si', 'tp', 'updat', 'trus', 'udah', 'fasilitas', 'tingkat'])"
            ]
          },
          "metadata": {},
          "execution_count": 16
        }
      ]
    },
    {
      "cell_type": "code",
      "metadata": {
        "colab": {
          "base_uri": "https://localhost:8080/"
        },
        "id": "jHwqLGC0F1Ob",
        "outputId": "e8263c91-6dd9-4b4e-8475-a85fc81a376a"
      },
      "source": [
        "# Semua Fitur Kelas 0\n",
        "fitur_negatif = tf_negatif.keys()\n",
        "fitur_negatif"
      ],
      "execution_count": null,
      "outputs": [
        {
          "output_type": "execute_result",
          "data": {
            "text/plain": [
              "dict_keys(['aplikasi', 'sulit', 'akses', 'kalo', 'jam', 'sibuk', 'tampil', 'transaksi', 'proses', 'silah', 'coba', 'obat', 'malam', 'lancar', 'daaftar', 'aja', 'susah', 'udah', 'download', 'blg', 'drmh', 'nya', 'gak', 'bener', 'tolong', 'nambah', 'susahin', 'daftar', 'benrr', 'knp', 'ya', 'bs', 'bayar', 'bpjs', 'sehat', 'virtual', 'account', 'yg', 'pake', 'tera', 'tulisa', 'id', 'no', 'tlpn', 'npwp', 'maret', 'byr', 'layan', 'buruk', 'tiap', 'buka', 'jkn', 'suruh', 'baharu', 'play', 'store', 'saya', 'premi', 'cek', 'tagih', 'dan', 'kartu', 'non', 'aktif', 'ajha', 'ribet', 'bgt', 'kantor', 'gk', 'komplain', 'nik', 'blm', 'online', 'kn', 'capil', 'huft', 'rempong', 'sih', 'meribetkan', 'gin', 'diupdate', 'gabisa', 'masuk', 'minggu', 'uninstall', 'install', 'ulang', 'oke', 'fitur', 'tambah', 'moga', 'bagus', 'capta', 'captanya', 'alias', 'kosong', 'gimna', 'dear', 'kembang', 'saran', 'mudah', 'mohon', 'baik', 'akun', 'pas', 'log', 'in', 'nomor', 'terang', 'sumpah', 'kesel', 'kali', 'bulak', 'bikin', 'apk', 'sampah', 'kerja', 'nunggu', 'malem', 'telfon', 'bicara', 'solusi', 'tp', 'klik', 'gambar', 'maksud', 'tulis', 'slalu', 'btw', 'niat', 'ga', 'bkin', 'malu', 'login', 'gagal', 'donk', 'it', 'development', 'urus', 'sanggup', 'maintenance', 'jgn', 'benerin', 'mulu', 'iya', 'hari', 'kesiap', 'penting', 'register', 'muncul', 'notif', 'sukses', 'call', 'center', 'hubung', 'arah', 'ulas', 'lengkaptolong', 'lembaga', 'perintah', 'lbh', 'better', 'kasih', 'kalah', 'ma', 'usaha', 'swasta'])"
            ]
          },
          "metadata": {},
          "execution_count": 17
        }
      ]
    },
    {
      "cell_type": "markdown",
      "metadata": {
        "id": "UlTJdPzN8WWk"
      },
      "source": [
        "## Conditional Probability Fitur"
      ]
    },
    {
      "cell_type": "code",
      "metadata": {
        "id": "gsj0d8Or8eHr"
      },
      "source": [
        "def conditional_prob_positif(uji) :\n",
        "  prob_p = []\n",
        "  for i in uji:\n",
        "    if i in tf_positif.keys():\n",
        "      count =  tf_positif[i]\n",
        "    else :\n",
        "      count = 0\n",
        "    prob_p.append((count+1)/(len(tf_positif)+len(term)))\n",
        "  return dict(zip(uji,prob_p))\n",
        "\n",
        "def conditional_prob_negatif(uji) :\n",
        "  prob_n = []\n",
        "  for i in uji:\n",
        "    if i in tf_negatif.keys():\n",
        "      count =  tf_negatif[i]\n",
        "    else :\n",
        "      count = 0\n",
        "    prob_n.append((count+1)/(len(tf_negatif)+len(term)))\n",
        "  return dict(zip(uji,prob_n))"
      ],
      "execution_count": null,
      "outputs": []
    },
    {
      "cell_type": "markdown",
      "metadata": {
        "id": "1BHrHHrgTCqd"
      },
      "source": [
        "#Fase Testing"
      ]
    },
    {
      "cell_type": "markdown",
      "metadata": {
        "id": "f9UGsDXU6Hbc"
      },
      "source": [
        "### Menghitung Nilai Prior"
      ]
    },
    {
      "cell_type": "code",
      "metadata": {
        "id": "rQyODaWUSwrv"
      },
      "source": [
        "def prior(list_kelas):\n",
        "  n_data = len(list_kelas)\n",
        "  prior = Counter(list_kelas)\n",
        "  for key in prior.keys():\n",
        "    prior[key]=prior[key]/n_data\n",
        "  return prior"
      ],
      "execution_count": null,
      "outputs": []
    },
    {
      "cell_type": "code",
      "metadata": {
        "colab": {
          "base_uri": "https://localhost:8080/"
        },
        "id": "jT6l7jB9S4La",
        "outputId": "f5ec1a37-a4ff-4106-c520-b9dad6d8e1d6"
      },
      "source": [
        "prior = prior(data['label'])\n",
        "print(prior)"
      ],
      "execution_count": null,
      "outputs": [
        {
          "output_type": "stream",
          "name": "stdout",
          "text": [
            "Counter({1: 0.5, 0: 0.5})\n"
          ]
        }
      ]
    },
    {
      "cell_type": "markdown",
      "metadata": {
        "id": "MQdE6uOW6Y9s"
      },
      "source": [
        "### Menampilkan nilai term data uji"
      ]
    },
    {
      "cell_type": "code",
      "metadata": {
        "id": "d22CqTsq6qOP"
      },
      "source": [
        "def term_uji(data_uji) :\n",
        "  term_uji =  ' '.join([i for i in data_uji.split(\" \")]).split()\n",
        "  return term_uji"
      ],
      "execution_count": null,
      "outputs": []
    },
    {
      "cell_type": "code",
      "metadata": {
        "colab": {
          "base_uri": "https://localhost:8080/"
        },
        "id": "-6_4w38f80AK",
        "outputId": "25cfa84a-8001-40c4-c2cd-a24859767da9"
      },
      "source": [
        "term_data_uji = []\n",
        "for i in range(0, len(data_uji)) :\n",
        "  term_data_uji.append(term_uji(data_uji[i]))\n",
        "\n",
        "term_data_uji"
      ],
      "execution_count": null,
      "outputs": [
        {
          "output_type": "execute_result",
          "data": {
            "text/plain": [
              "[['aplikasi', 'cetak', 'kartu', 'jkn', 'cepat'],\n",
              " ['jkn',\n",
              "  'anjiiing',\n",
              "  'kali',\n",
              "  'hubung',\n",
              "  'call',\n",
              "  'centernya',\n",
              "  'daftar',\n",
              "  'serta',\n",
              "  'gak',\n",
              "  'pulsa',\n",
              "  'si',\n",
              "  'tarik',\n",
              "  'habis',\n",
              "  'hasil',\n",
              "  'nihil',\n",
              "  'mudah',\n",
              "  'sulit',\n",
              "  'orang',\n",
              "  'daftar',\n",
              "  'bpjs',\n",
              "  'nelfon',\n",
              "  'pulsa',\n",
              "  'tarik',\n",
              "  'barapa',\n",
              "  'kali',\n",
              "  'hubung',\n",
              "  'k',\n",
              "  'ulas',\n",
              "  'lengkapjkn',\n",
              "  'anjiiing',\n",
              "  'kali',\n",
              "  'hubung',\n",
              "  'call',\n",
              "  'centernya',\n",
              "  'daftar',\n",
              "  'serta',\n",
              "  'gak',\n",
              "  'pulsa',\n",
              "  'si',\n",
              "  'tarik',\n",
              "  'habis',\n",
              "  'hasil',\n",
              "  'nihil',\n",
              "  'mudah',\n",
              "  'sulit',\n",
              "  'orang',\n",
              "  'daftar',\n",
              "  'bpjs',\n",
              "  'nelfon',\n",
              "  'pulsa',\n",
              "  'tarik',\n",
              "  'barapa',\n",
              "  'kali',\n",
              "  'hubung',\n",
              "  'call',\n",
              "  'center',\n",
              "  'daftar',\n",
              "  'aplikasi',\n",
              "  'gak',\n",
              "  'mo',\n",
              "  'daftar',\n",
              "  'anggota',\n",
              "  'aja',\n",
              "  'gak',\n",
              "  'tolong',\n",
              "  'tingkat',\n",
              "  'layan',\n",
              "  'susah',\n",
              "  'rakyat',\n",
              "  'mulu'],\n",
              " ['mudah', 'masyarakat', 'klik', 'antri'],\n",
              " ['tolong',\n",
              "  'jelas',\n",
              "  'kmren',\n",
              "  'daftar',\n",
              "  'dibpjs',\n",
              "  'online',\n",
              "  'login',\n",
              "  'jawab',\n",
              "  'transakai',\n",
              "  'proses',\n",
              "  'silah',\n",
              "  'coba',\n",
              "  'sdh',\n",
              "  'coba',\n",
              "  'jawab',\n",
              "  'bgitu',\n",
              "  'klo',\n",
              "  'mmg',\n",
              "  'tdak',\n",
              "  'kasih',\n",
              "  'pasti',\n",
              "  'jgn',\n",
              "  'ulas',\n",
              "  'lengkaptolong',\n",
              "  'jelas',\n",
              "  'kmren',\n",
              "  'daftar',\n",
              "  'dibpjs',\n",
              "  'online',\n",
              "  'login',\n",
              "  'jawab',\n",
              "  'transakai',\n",
              "  'proses',\n",
              "  'silah',\n",
              "  'coba',\n",
              "  'sdh',\n",
              "  'coba',\n",
              "  'jawab',\n",
              "  'bgitu',\n",
              "  'klo',\n",
              "  'mmg',\n",
              "  'tdak',\n",
              "  'kasih',\n",
              "  'pasti',\n",
              "  'jgn',\n",
              "  'bantu',\n",
              "  'layan',\n",
              "  'butuh',\n",
              "  'tolong',\n",
              "  'perintah',\n",
              "  'henti',\n",
              "  'berhoax',\n",
              "  'mudah',\n",
              "  'rakyat',\n",
              "  'rakyat',\n",
              "  'tetangga'],\n",
              " ['makasih', 'sangat', 'bantu', 'banget', 'aplikasi', 'nya'],\n",
              " ['transaksi',\n",
              "  'proses',\n",
              "  'ulang',\n",
              "  'tdk',\n",
              "  'buka',\n",
              "  'tolong',\n",
              "  'baik',\n",
              "  'apps',\n",
              "  'nya',\n",
              "  'yg',\n",
              "  'complaint',\n",
              "  'tp',\n",
              "  'buruk',\n",
              "  'jg',\n",
              "  'nih',\n",
              "  'apps']]"
            ]
          },
          "metadata": {},
          "execution_count": 22
        }
      ]
    },
    {
      "cell_type": "markdown",
      "metadata": {
        "id": "SAKgNa-GDYHv"
      },
      "source": [
        "### Menghitung Conditional Probrability Data Uji"
      ]
    },
    {
      "cell_type": "code",
      "metadata": {
        "id": "eH_1SRTMKj7g"
      },
      "source": [
        "# Conditional Probrability Positif\n",
        "cp_p = []\n",
        "for i in range (0, 6) :\n",
        "  cp_p.append(conditional_prob_positif(term_data_uji[i]))"
      ],
      "execution_count": null,
      "outputs": []
    },
    {
      "cell_type": "code",
      "metadata": {
        "id": "J-0VJGlBLBWv"
      },
      "source": [
        "# Conditional Probrability Negatif\n",
        "cp_n = []\n",
        "for i in range (0, 6) :\n",
        "  cp_n.append(conditional_prob_negatif(term_data_uji[i]))"
      ],
      "execution_count": null,
      "outputs": []
    },
    {
      "cell_type": "code",
      "metadata": {
        "colab": {
          "base_uri": "https://localhost:8080/"
        },
        "id": "U_ovb-Q1K6-G",
        "outputId": "642da692-2d47-441f-e63d-a531f03b8fad"
      },
      "source": [
        "cp_p"
      ],
      "execution_count": null,
      "outputs": [
        {
          "output_type": "execute_result",
          "data": {
            "text/plain": [
              "[{'aplikasi': 0.012195121951219513,\n",
              "  'cepat': 0.0024390243902439024,\n",
              "  'cetak': 0.0024390243902439024,\n",
              "  'jkn': 0.00975609756097561,\n",
              "  'kartu': 0.0024390243902439024},\n",
              " {'aja': 0.0024390243902439024,\n",
              "  'anggota': 0.0024390243902439024,\n",
              "  'anjiiing': 0.0024390243902439024,\n",
              "  'aplikasi': 0.012195121951219513,\n",
              "  'barapa': 0.0024390243902439024,\n",
              "  'bpjs': 0.00975609756097561,\n",
              "  'call': 0.0024390243902439024,\n",
              "  'center': 0.0024390243902439024,\n",
              "  'centernya': 0.0024390243902439024,\n",
              "  'daftar': 0.0024390243902439024,\n",
              "  'gak': 0.0024390243902439024,\n",
              "  'habis': 0.0024390243902439024,\n",
              "  'hasil': 0.0024390243902439024,\n",
              "  'hubung': 0.0024390243902439024,\n",
              "  'jkn': 0.00975609756097561,\n",
              "  'k': 0.0024390243902439024,\n",
              "  'kali': 0.0024390243902439024,\n",
              "  'layan': 0.00975609756097561,\n",
              "  'lengkapjkn': 0.0024390243902439024,\n",
              "  'mo': 0.0024390243902439024,\n",
              "  'mudah': 0.00975609756097561,\n",
              "  'mulu': 0.0024390243902439024,\n",
              "  'nelfon': 0.0024390243902439024,\n",
              "  'nihil': 0.0024390243902439024,\n",
              "  'orang': 0.0024390243902439024,\n",
              "  'pulsa': 0.0024390243902439024,\n",
              "  'rakyat': 0.0024390243902439024,\n",
              "  'serta': 0.0024390243902439024,\n",
              "  'si': 0.004878048780487805,\n",
              "  'sulit': 0.0024390243902439024,\n",
              "  'susah': 0.0024390243902439024,\n",
              "  'tarik': 0.0024390243902439024,\n",
              "  'tingkat': 0.004878048780487805,\n",
              "  'tolong': 0.0024390243902439024,\n",
              "  'ulas': 0.0024390243902439024},\n",
              " {'antri': 0.0024390243902439024,\n",
              "  'klik': 0.0024390243902439024,\n",
              "  'masyarakat': 0.0024390243902439024,\n",
              "  'mudah': 0.00975609756097561},\n",
              " {'bantu': 0.01707317073170732,\n",
              "  'berhoax': 0.0024390243902439024,\n",
              "  'bgitu': 0.0024390243902439024,\n",
              "  'butuh': 0.0024390243902439024,\n",
              "  'coba': 0.0024390243902439024,\n",
              "  'daftar': 0.0024390243902439024,\n",
              "  'dibpjs': 0.0024390243902439024,\n",
              "  'henti': 0.0024390243902439024,\n",
              "  'jawab': 0.0024390243902439024,\n",
              "  'jelas': 0.0024390243902439024,\n",
              "  'jgn': 0.0024390243902439024,\n",
              "  'kasih': 0.007317073170731708,\n",
              "  'klo': 0.0024390243902439024,\n",
              "  'kmren': 0.0024390243902439024,\n",
              "  'layan': 0.00975609756097561,\n",
              "  'lengkaptolong': 0.0024390243902439024,\n",
              "  'login': 0.0024390243902439024,\n",
              "  'mmg': 0.0024390243902439024,\n",
              "  'mudah': 0.00975609756097561,\n",
              "  'online': 0.0024390243902439024,\n",
              "  'pasti': 0.0024390243902439024,\n",
              "  'perintah': 0.0024390243902439024,\n",
              "  'proses': 0.0024390243902439024,\n",
              "  'rakyat': 0.0024390243902439024,\n",
              "  'sdh': 0.0024390243902439024,\n",
              "  'silah': 0.0024390243902439024,\n",
              "  'tdak': 0.0024390243902439024,\n",
              "  'tetangga': 0.0024390243902439024,\n",
              "  'tolong': 0.0024390243902439024,\n",
              "  'transakai': 0.0024390243902439024,\n",
              "  'ulas': 0.0024390243902439024},\n",
              " {'aplikasi': 0.012195121951219513,\n",
              "  'banget': 0.0024390243902439024,\n",
              "  'bantu': 0.01707317073170732,\n",
              "  'makasih': 0.0024390243902439024,\n",
              "  'nya': 0.00975609756097561,\n",
              "  'sangat': 0.0024390243902439024},\n",
              " {'apps': 0.0024390243902439024,\n",
              "  'baik': 0.0024390243902439024,\n",
              "  'buka': 0.0024390243902439024,\n",
              "  'buruk': 0.0024390243902439024,\n",
              "  'complaint': 0.0024390243902439024,\n",
              "  'jg': 0.0024390243902439024,\n",
              "  'nih': 0.0024390243902439024,\n",
              "  'nya': 0.00975609756097561,\n",
              "  'proses': 0.0024390243902439024,\n",
              "  'tdk': 0.0024390243902439024,\n",
              "  'tolong': 0.0024390243902439024,\n",
              "  'tp': 0.004878048780487805,\n",
              "  'transaksi': 0.0024390243902439024,\n",
              "  'ulang': 0.0024390243902439024,\n",
              "  'yg': 0.004878048780487805}]"
            ]
          },
          "metadata": {},
          "execution_count": 25
        }
      ]
    },
    {
      "cell_type": "code",
      "metadata": {
        "colab": {
          "base_uri": "https://localhost:8080/"
        },
        "id": "E-vFhJVnWB8_",
        "outputId": "d53218c6-d506-43f0-a571-c7d1ad678d09"
      },
      "source": [
        "cp_n"
      ],
      "execution_count": null,
      "outputs": [
        {
          "output_type": "execute_result",
          "data": {
            "text/plain": [
              "[{'aplikasi': 0.032196969696969696,\n",
              "  'cepat': 0.001893939393939394,\n",
              "  'cetak': 0.001893939393939394,\n",
              "  'jkn': 0.005681818181818182,\n",
              "  'kartu': 0.003787878787878788},\n",
              " {'aja': 0.011363636363636364,\n",
              "  'anggota': 0.001893939393939394,\n",
              "  'anjiiing': 0.001893939393939394,\n",
              "  'aplikasi': 0.032196969696969696,\n",
              "  'barapa': 0.001893939393939394,\n",
              "  'bpjs': 0.003787878787878788,\n",
              "  'call': 0.005681818181818182,\n",
              "  'center': 0.005681818181818182,\n",
              "  'centernya': 0.001893939393939394,\n",
              "  'daftar': 0.017045454545454544,\n",
              "  'gak': 0.007575757575757576,\n",
              "  'habis': 0.001893939393939394,\n",
              "  'hasil': 0.001893939393939394,\n",
              "  'hubung': 0.005681818181818182,\n",
              "  'jkn': 0.005681818181818182,\n",
              "  'k': 0.001893939393939394,\n",
              "  'kali': 0.003787878787878788,\n",
              "  'layan': 0.015151515151515152,\n",
              "  'lengkapjkn': 0.001893939393939394,\n",
              "  'mo': 0.001893939393939394,\n",
              "  'mudah': 0.003787878787878788,\n",
              "  'mulu': 0.003787878787878788,\n",
              "  'nelfon': 0.001893939393939394,\n",
              "  'nihil': 0.001893939393939394,\n",
              "  'orang': 0.001893939393939394,\n",
              "  'pulsa': 0.001893939393939394,\n",
              "  'rakyat': 0.001893939393939394,\n",
              "  'serta': 0.001893939393939394,\n",
              "  'si': 0.001893939393939394,\n",
              "  'sulit': 0.003787878787878788,\n",
              "  'susah': 0.005681818181818182,\n",
              "  'tarik': 0.001893939393939394,\n",
              "  'tingkat': 0.001893939393939394,\n",
              "  'tolong': 0.007575757575757576,\n",
              "  'ulas': 0.003787878787878788},\n",
              " {'antri': 0.001893939393939394,\n",
              "  'klik': 0.003787878787878788,\n",
              "  'masyarakat': 0.001893939393939394,\n",
              "  'mudah': 0.003787878787878788},\n",
              " {'bantu': 0.001893939393939394,\n",
              "  'berhoax': 0.001893939393939394,\n",
              "  'bgitu': 0.001893939393939394,\n",
              "  'butuh': 0.001893939393939394,\n",
              "  'coba': 0.00946969696969697,\n",
              "  'daftar': 0.017045454545454544,\n",
              "  'dibpjs': 0.001893939393939394,\n",
              "  'henti': 0.001893939393939394,\n",
              "  'jawab': 0.001893939393939394,\n",
              "  'jelas': 0.001893939393939394,\n",
              "  'jgn': 0.003787878787878788,\n",
              "  'kasih': 0.003787878787878788,\n",
              "  'klo': 0.001893939393939394,\n",
              "  'kmren': 0.001893939393939394,\n",
              "  'layan': 0.015151515151515152,\n",
              "  'lengkaptolong': 0.003787878787878788,\n",
              "  'login': 0.015151515151515152,\n",
              "  'mmg': 0.001893939393939394,\n",
              "  'mudah': 0.003787878787878788,\n",
              "  'online': 0.003787878787878788,\n",
              "  'pasti': 0.001893939393939394,\n",
              "  'perintah': 0.003787878787878788,\n",
              "  'proses': 0.005681818181818182,\n",
              "  'rakyat': 0.001893939393939394,\n",
              "  'sdh': 0.001893939393939394,\n",
              "  'silah': 0.007575757575757576,\n",
              "  'tdak': 0.001893939393939394,\n",
              "  'tetangga': 0.001893939393939394,\n",
              "  'tolong': 0.007575757575757576,\n",
              "  'transakai': 0.001893939393939394,\n",
              "  'ulas': 0.003787878787878788},\n",
              " {'aplikasi': 0.032196969696969696,\n",
              "  'banget': 0.001893939393939394,\n",
              "  'bantu': 0.001893939393939394,\n",
              "  'makasih': 0.001893939393939394,\n",
              "  'nya': 0.015151515151515152,\n",
              "  'sangat': 0.001893939393939394},\n",
              " {'apps': 0.001893939393939394,\n",
              "  'baik': 0.011363636363636364,\n",
              "  'buka': 0.00946969696969697,\n",
              "  'buruk': 0.003787878787878788,\n",
              "  'complaint': 0.001893939393939394,\n",
              "  'jg': 0.001893939393939394,\n",
              "  'nih': 0.001893939393939394,\n",
              "  'nya': 0.015151515151515152,\n",
              "  'proses': 0.005681818181818182,\n",
              "  'tdk': 0.001893939393939394,\n",
              "  'tolong': 0.007575757575757576,\n",
              "  'tp': 0.003787878787878788,\n",
              "  'transaksi': 0.005681818181818182,\n",
              "  'ulang': 0.003787878787878788,\n",
              "  'yg': 0.011363636363636364}]"
            ]
          },
          "metadata": {},
          "execution_count": 26
        }
      ]
    },
    {
      "cell_type": "markdown",
      "metadata": {
        "id": "TxyaXWkWLZPA"
      },
      "source": [
        "### Menghitung Nilai Posterior"
      ]
    },
    {
      "cell_type": "code",
      "metadata": {
        "id": "hF_MDf5RMNDF"
      },
      "source": [
        "def posterior(conditional_prob, prior) :\n",
        "  peluang_p = 1\n",
        "  for i in conditional_prob :\n",
        "    peluang_p = peluang_p * conditional_prob[i]\n",
        "  posterior = peluang_p * prior\n",
        "  return posterior"
      ],
      "execution_count": null,
      "outputs": []
    },
    {
      "cell_type": "code",
      "metadata": {
        "id": "T9pNy0WAIETB"
      },
      "source": [
        "# Posterior Positif\n",
        "posterior_p = []\n",
        "for i in range (0, 6) :\n",
        "  posterior_p.append(posterior(cp_p[i], prior[1]))\n",
        "\n",
        "# Posterior Negatif\n",
        "posterior_n = []\n",
        "for i in range (0, 6) :\n",
        "  posterior_n.append(posterior(cp_n[i], prior[0]))"
      ],
      "execution_count": null,
      "outputs": []
    },
    {
      "cell_type": "code",
      "metadata": {
        "colab": {
          "base_uri": "https://localhost:8080/"
        },
        "id": "ntaWg66pOIlr",
        "outputId": "deb54f8c-64b6-43c1-f28c-f584d890ca9f"
      },
      "source": [
        "posterior_p"
      ],
      "execution_count": null,
      "outputs": [
        {
          "output_type": "execute_result",
          "data": {
            "text/plain": [
              "[8.631389527436687e-13,\n",
              " 9.137028511914271e-89,\n",
              " 7.077739412498085e-11,\n",
              " 1.694375735381135e-79,\n",
              " 1.4736518705379717e-14,\n",
              " 5.144369280628751e-39]"
            ]
          },
          "metadata": {},
          "execution_count": 29
        }
      ]
    },
    {
      "cell_type": "markdown",
      "metadata": {
        "id": "YbyR1M63PHBF"
      },
      "source": [
        "### Menentukan Kelas Data Uji"
      ]
    },
    {
      "cell_type": "code",
      "metadata": {
        "id": "vTinzNC7PKGl"
      },
      "source": [
        "label_uji = []\n",
        "for i in range(0,6) :\n",
        "  if posterior_p[i] > posterior_n[i] :\n",
        "    label_uji.append(1)\n",
        "  elif posterior_p[i] < posterior_n[i]:\n",
        "    label_uji.append(0)"
      ],
      "execution_count": null,
      "outputs": []
    },
    {
      "cell_type": "code",
      "metadata": {
        "colab": {
          "base_uri": "https://localhost:8080/"
        },
        "id": "drTC9-5UQnyF",
        "outputId": "f9425ddb-2984-4f1b-c540-afd25ada5ce0"
      },
      "source": [
        "label_uji"
      ],
      "execution_count": null,
      "outputs": [
        {
          "output_type": "execute_result",
          "data": {
            "text/plain": [
              "[0, 0, 1, 0, 1, 0]"
            ]
          },
          "metadata": {},
          "execution_count": 31
        }
      ]
    },
    {
      "cell_type": "markdown",
      "metadata": {
        "id": "QuTKrfxTRZ3R"
      },
      "source": [
        "### Menetukan Nilai Akurasi Prediksi"
      ]
    },
    {
      "cell_type": "code",
      "metadata": {
        "id": "GJ2yFxhQRrpD"
      },
      "source": [
        "def func_prediksi(label_uji):\n",
        "  data_uji_label = [1, 0, 1, 0, 1, 0]\n",
        "  prediksi = 0\n",
        "  for i in range(0,6):\n",
        "    if label_uji[i] == data_uji_label[i] :\n",
        "      prediksi=prediksi+1\n",
        "  return prediksi"
      ],
      "execution_count": null,
      "outputs": []
    },
    {
      "cell_type": "code",
      "metadata": {
        "id": "bbigAkUXS-8o"
      },
      "source": [
        "prediksi_benar = func_prediksi(label_uji)\n",
        "akurasi = (prediksi_benar/6)"
      ],
      "execution_count": null,
      "outputs": []
    },
    {
      "cell_type": "code",
      "metadata": {
        "colab": {
          "base_uri": "https://localhost:8080/"
        },
        "id": "Qzl0ULkUTWOK",
        "outputId": "95676fa0-84a5-4d55-ed81-0b246465b36c"
      },
      "source": [
        "print(\"Banyak nilai dari Prediksi Benar ada \", prediksi_benar)"
      ],
      "execution_count": null,
      "outputs": [
        {
          "output_type": "stream",
          "name": "stdout",
          "text": [
            "Banyak nilai dari Prediksi Benar ada  5\n"
          ]
        }
      ]
    },
    {
      "cell_type": "code",
      "metadata": {
        "colab": {
          "base_uri": "https://localhost:8080/"
        },
        "id": "CjpXBIgjUXz3",
        "outputId": "ec3bf50a-5c4b-4730-bd80-07d1ce69f21a"
      },
      "source": [
        "print(\"Nilai Akurasi : %f atau %d Persen\" % (akurasi, akurasi*100))"
      ],
      "execution_count": null,
      "outputs": [
        {
          "output_type": "stream",
          "name": "stdout",
          "text": [
            "Nilai Akurasi : 0.833333 atau 83 Persen\n"
          ]
        }
      ]
    }
  ]
}